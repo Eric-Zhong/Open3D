{
 "cells": [
  {
   "cell_type": "markdown",
   "metadata": {},
   "source": [
    "# 环境准备"
   ]
  },
  {
   "cell_type": "markdown",
   "metadata": {},
   "source": [
    "## 基础组件"
   ]
  },
  {
   "cell_type": "markdown",
   "metadata": {},
   "source": [
    "### Python 3.11\n",
    "\n",
    "open3d 目前只支持到 python 3.11\n",
    "\n",
    "```\n",
    "conda create -n open3d python=3.11\n",
    "```"
   ]
  },
  {
   "cell_type": "markdown",
   "metadata": {},
   "source": [
    "### Open3d\n",
    "\n",
    "```\n",
    "pip install open3d\n",
    "```\n",
    "\n",
    "安装了如何组件：\n",
    "\n",
    "Successfully installed Flask-3.0.3 Jinja2-3.1.4 MarkupSafe-3.0.2 asttokens-3.0.0 attrs-24.2.0 blinker-1.9.0 certifi-2024.8.30 charset-normalizer-3.4.0 click-8.1.7 colorama-0.4.6 comm-0.2.2 configargparse-1.7 dash-2.18.2 dash-core-components-2.0.0 dash-html-components-2.0.0 dash-table-5.0.0 decorator-5.1.1 executing-2.1.0 fastjsonschema-2.21.1 idna-3.10 importlib-metadata-8.5.0 ipython-8.30.0 ipywidgets-8.1.5 itsdangerous-2.2.0 jedi-0.19.2 jsonschema-4.23.0 jsonschema-specifications-2024.10.1 jupyter-core-5.7.2 jupyterlab-widgets-3.0.13 matplotlib-inline-0.1.7 nbformat-5.10.4 nest-asyncio-1.6.0 numpy-2.2.0 open3d-0.18.0 packaging-24.2 parso-0.8.4 platformdirs-4.3.6 plotly-5.24.1 prompt_toolkit-3.0.48 pure-eval-0.2.3 pygments-2.18.0 pywin32-308 referencing-0.35.1 requests-2.32.3 retrying-1.3.4 rpds-py-0.22.3 six-1.17.0 stack_data-0.6.3 tenacity-9.0.0 traitlets-5.14.3 typing-extensions-4.12.2 urllib3-2.2.3 wcwidth-0.2.13 werkzeug-3.0.6 widgetsnbextension-4.0.13 zipp-3.21.0\n"
   ]
  },
  {
   "cell_type": "markdown",
   "metadata": {},
   "source": [
    "# 代码测试"
   ]
  },
  {
   "cell_type": "markdown",
   "metadata": {},
   "source": [
    "## 基础"
   ]
  },
  {
   "cell_type": "code",
   "execution_count": null,
   "metadata": {},
   "outputs": [],
   "source": []
  },
  {
   "cell_type": "markdown",
   "metadata": {},
   "source": [
    "### 判断是否安装成功"
   ]
  },
  {
   "cell_type": "code",
   "execution_count": 2,
   "metadata": {},
   "outputs": [
    {
     "name": "stdout",
     "output_type": "stream",
     "text": [
      "PATH: \"c:\\Users\\zhong\\anaconda3\\envs\\open3d;C:\\Users\\zhong\\anaconda3\\envs\\open3d;C:\\Users\\zhong\\anaconda3\\envs\\open3d\\Library\\mingw-w64\\bin;C:\\Users\\zhong\\anaconda3\\envs\\open3d\\Library\\usr\\bin;C:\\Users\\zhong\\anaconda3\\envs\\open3d\\Library\\bin;C:\\Users\\zhong\\anaconda3\\envs\\open3d\\Scripts;C:\\Users\\zhong\\anaconda3\\envs\\open3d\\bin;C:\\Users\\zhong\\anaconda3\\condabin;C:\\WINDOWS\\system32;C:\\WINDOWS;C:\\WINDOWS\\System32\\Wbem;C:\\WINDOWS\\System32\\WindowsPowerShell\\v1.0;C:\\WINDOWS\\System32\\OpenSSH;C:\\Program Files\\Microsoft SQL Server\\150\\Tools\\Binn;C:\\Program Files\\Microsoft SQL Server\\Client SDK\\ODBC\\170\\Tools\\Binn;C:\\Program Files\\dotnet;C:\\Program Files\\Git\\cmd;C:\\Program Files (x86)\\Windows Kits\\10\\Windows Performance Toolkit;Z:\\Service\\Flutter\\flutter_windows_3.24.5-stable\\flutter\\bin;C:\\Users\\zhong\\AppData\\Local\\Microsoft\\WindowsApps;C:\\Users\\zhong\\.dotnet\\tools;Z:\\Service\\Java\\jvms;Z:\\Service\\Java\\jdk-1.8\\bin;C:\\Users\\zhong\\AppData\\Roaming\\nvm;C:\\Program Files\\nodejs;c:\\Users\\zhong\\AppData\\Local\\Programs\\cursor\\resources\\app\\bin;C:\\Program Files (x86)\\NVIDIA Corporation\\PhysX\\Common;Z:\\Service\\CMake\\bin;C:\\Program Files\\NVIDIA Corporation\\NVIDIA app\\NvDLISR;C:\\Program Files\\NVIDIA Corporation\\Nsight Compute 2022.2.1;C:\\Program Files\\Docker\\Docker\\resources\\bin;Z:\\Service\\NVIDIA GPU Comuting Toolkit\\CUDA\\v11.7\\bin;Z:\\Service\\NVIDIA GPU Comuting Toolkit\\CUDA\\v11.7\\libnvvp;Z:\\Service\\Flutter\\flutter_windows_3.24.5-stable\\flutter\\bin;C:\\WINDOWS\\system32;C:\\WINDOWS;C:\\WINDOWS\\System32\\Wbem;C:\\WINDOWS\\System32\\WindowsPowerShell\\v1.0;C:\\WINDOWS\\System32\\OpenSSH;C:\\Program Files\\Microsoft SQL Server\\150\\Tools\\Binn;C:\\Program Files\\Microsoft SQL Server\\Client SDK\\ODBC\\170\\Tools\\Binn;C:\\Program Files\\dotnet;C:\\Program Files\\Git\\cmd;C:\\Users\\zhong\\AppData\\Local\\Microsoft\\WindowsApps;C:\\Users\\zhong\\.dotnet\\tools;C:\\Users\\zhong\\AppData\\Roaming\\nvm;C:\\Program Files\\nodejs;C:\\Users\\zhong\\AppData\\Local\\Microsoft\\WinGet\\Links;C:\\Program Files\\Vim\\vim91;Z:\\Service\\msys64\\mingw32\\bin;C:\\Program Files\\Microsoft Visual Studio\\2022\\Community\\VC\\Tools\\MSVC\\14.42.34433\\bin\\Hostx86\\x64;C:\\Users\\zhong\\AppData\\Local\\Pub\\Cache\\bin;.\"\n",
      "CUDA_PATH: \"Z:\\Service\\NVIDIA GPU Comuting Toolkit\\CUDA\\v11.7\"\n",
      "CUDA_VISIBLE_DEVICES: None\n",
      "0.18.0\n",
      "cpu\n",
      "cpu\n",
      "{'BUILD_TENSORFLOW_OPS': False, 'BUILD_PYTORCH_OPS': False, 'BUILD_CUDA_MODULE': False, 'BUILD_SYCL_MODULE': False, 'BUILD_AZURE_KINECT': True, 'BUILD_LIBREALSENSE': True, 'BUILD_SHARED_LIBS': False, 'BUILD_GUI': True, 'ENABLE_HEADLESS_RENDERING': False, 'BUILD_JUPYTER_EXTENSION': True, 'BUNDLE_OPEN3D_ML': False, 'GLIBCXX_USE_CXX11_ABI': True, 'CMAKE_BUILD_TYPE': 'Release', 'CUDA_VERSION': '', 'CUDA_GENCODES': '', 'Tensorflow_VERSION': '', 'Pytorch_VERSION': '', 'WITH_OPENMP': True}\n"
     ]
    }
   ],
   "source": [
    "import os\n",
    "import open3d as o3d\n",
    "\n",
    "PATH = os.getenv('PATH')\n",
    "CUDA_PATH = os.getenv('CUDA_PATH')\n",
    "CUDA_VISIBLE_DEVICES = os.getenv('CUDA_VISIBLE_DEVICES')\n",
    "\n",
    "print(f'PATH: \"{PATH}\"')\n",
    "print(f'CUDA_PATH: \"{CUDA_PATH}\"')\n",
    "print(f'CUDA_VISIBLE_DEVICES: {CUDA_VISIBLE_DEVICES}')\n",
    "\n",
    "print(o3d.__version__)\n",
    "print(o3d.__DEVICE_API__)\n",
    "\n",
    "# set as CUDA\n",
    "o3d.core.Device(\"cuda:0\")\n",
    "print(o3d.__DEVICE_API__)"
   ]
  },
  {
   "cell_type": "markdown",
   "metadata": {},
   "source": [
    "### 补充安装 jupyter 的 nbextensions 组件\n",
    "\n",
    "Ref: https://stackoverflow.com/questions/49647705/jupyter-nbextensions-does-not-appear"
   ]
  },
  {
   "cell_type": "markdown",
   "metadata": {},
   "source": [
    "```\n",
    "pip install jupyter_contrib_nbextensions\n",
    "```"
   ]
  },
  {
   "cell_type": "markdown",
   "metadata": {},
   "source": [
    "用下面的安装方式：\n",
    "\n",
    "```\n",
    "jupyter contrib nbextension install --user\n",
    "\n",
    "# > use this\n",
    "conda install -c conda-forge jupyter_contrib_nbextensions\n",
    "jupyter contrib nbextension install --sys-prefix\n",
    "\n",
    "jupyter nbextension enable --py widgetsnbextension --sys-prefix\n",
    "\n",
    "Enabling notebook extension jupyter-js-widgets/extension...\n",
    "      - Validating: ok\n",
    "```"
   ]
  },
  {
   "cell_type": "markdown",
   "metadata": {},
   "source": [
    "前面只在命令行中处理，还不行，还要在 juypter 环境内，执行一下。\n",
    "\n",
    "应该是需要在特定运行的环境中启用 ipywidgets 才行。"
   ]
  },
  {
   "cell_type": "code",
   "execution_count": 1,
   "metadata": {},
   "outputs": [
    {
     "name": "stderr",
     "output_type": "stream",
     "text": [
      "Enabling notebook extension jupyter-js-widgets/extension...\n",
      "      - Validating: ok\n"
     ]
    }
   ],
   "source": [
    "!jupyter nbextension enable --py widgetsnbextension --sys-prefix"
   ]
  },
  {
   "cell_type": "code",
   "execution_count": 1,
   "metadata": {},
   "outputs": [
    {
     "data": {
      "application/vnd.jupyter.widget-view+json": {
       "model_id": "f0495b482daf49ff99a49b08cf86714c",
       "version_major": 2,
       "version_minor": 0
      },
      "text/plain": [
       "Button(description='Click me', style=ButtonStyle())"
      ]
     },
     "metadata": {},
     "output_type": "display_data"
    }
   ],
   "source": [
    "import ipywidgets as widgets\n",
    "from IPython.display import display\n",
    "\n",
    "button = widgets.Button(description=\"Click me\")\n",
    "display(button)"
   ]
  },
  {
   "cell_type": "markdown",
   "metadata": {},
   "source": [
    "### 显示点云数据\n",
    "\n",
    "<img src=\"assets/screen_capture/Weixin%20Screenshot_20241211114757.png\" width=\"600\">\n",
    "\n",
    "控制按键： R N + - Shift Alt Ctrl"
   ]
  },
  {
   "cell_type": "code",
   "execution_count": 10,
   "metadata": {},
   "outputs": [
    {
     "name": "stdout",
     "output_type": "stream",
     "text": [
      "Load a ply point cloud, print it, and render it\n",
      "PointCloud with 196133 points.\n",
      "[[0.65234375 0.84686458 2.37890625]\n",
      " [0.65234375 0.83984375 2.38430572]\n",
      " [0.66737998 0.83984375 2.37890625]\n",
      " ...\n",
      " [2.00839925 2.39453125 1.88671875]\n",
      " [2.00390625 2.39488506 1.88671875]\n",
      " [2.00390625 2.39453125 1.88793314]]\n"
     ]
    }
   ],
   "source": [
    "import open3d as o3d\n",
    "import numpy as np\n",
    "\n",
    "print(\"Load a ply point cloud, print it, and render it\")\n",
    "ply_point_cloud = o3d.data.PLYPointCloud()\n",
    "pcd = o3d.io.read_point_cloud(ply_point_cloud.path)\n",
    "print(pcd)\n",
    "print(np.asarray(pcd.points))\n",
    "\n",
    "# 折腾完！官方给的下面的例子，其它参数不能使用，全部注释掉了。\n",
    "o3d.visualization.draw_geometries(\n",
    "    [pcd],\n",
    "    # zoom=0.3412,\n",
    "    # front=[0.4257, -0.2125, -0.8795],\n",
    "    # lookat=[2.6172, 2.0475, 1.532],\n",
    "    # up=[-0.0694, -0.9768, 0.2024]\n",
    ")"
   ]
  },
  {
   "cell_type": "markdown",
   "metadata": {},
   "source": [
    "### 体素（Voxel）采样并显示\n",
    "\n",
    "<img src=\"assets/screen_capture/Weixin Screenshot_20241211115604.png\" width=\"600\">"
   ]
  },
  {
   "cell_type": "code",
   "execution_count": 11,
   "metadata": {},
   "outputs": [
    {
     "name": "stdout",
     "output_type": "stream",
     "text": [
      "Downsample the point cloud with a voxel of 0.05\n"
     ]
    }
   ],
   "source": [
    "import open3d as o3d\n",
    "import numpy as np\n",
    "\n",
    "print(\"Downsample the point cloud with a voxel of 0.05\")\n",
    "\n",
    "ply_point_cloud = o3d.data.PLYPointCloud()\n",
    "pcd = o3d.io.read_point_cloud(ply_point_cloud.path)\n",
    "\n",
    "downpcd = pcd.voxel_down_sample(voxel_size=0.05)\n",
    "\n",
    "o3d.visualization.draw_geometries(\n",
    "    [downpcd],\n",
    "    # zoom=0.3412,\n",
    "    # front=[0.4257, -0.2125, -0.8795],\n",
    "    # lookat=[2.6172, 2.0475, 1.532],\n",
    "    # up=[-0.0694, -0.9768, 0.2024]\n",
    ")"
   ]
  },
  {
   "cell_type": "markdown",
   "metadata": {},
   "source": [
    "### 显示法线\n",
    "\n",
    "<img src=\"assets/screen_capture/Weixin Screenshot_20241211120127.png\" width=\"600\">\n"
   ]
  },
  {
   "cell_type": "code",
   "execution_count": 3,
   "metadata": {},
   "outputs": [
    {
     "name": "stdout",
     "output_type": "stream",
     "text": [
      "Recompute the normal of the downsampled point cloud\n"
     ]
    }
   ],
   "source": [
    "import open3d as o3d\n",
    "import numpy as np\n",
    "\n",
    "print(\"Recompute the normal of the downsampled point cloud\")\n",
    "\n",
    "ply_point_cloud = o3d.data.PLYPointCloud()\n",
    "pcd = o3d.io.read_point_cloud(ply_point_cloud.path)\n",
    "\n",
    "downpcd = pcd.voxel_down_sample(voxel_size=0.03)\n",
    "\n",
    "downpcd.estimate_normals(\n",
    "    search_param=o3d.geometry.KDTreeSearchParamHybrid(radius=0.1, max_nn=30))\n",
    "\n",
    "o3d.visualization.draw_geometries(\n",
    "    [downpcd],\n",
    "    # zoom=0.3412,\n",
    "    # front=[0.4257, -0.2125, -0.8795],\n",
    "    # lookat=[2.6172, 2.0475, 1.532],\n",
    "    # up=[-0.0694, -0.9768, 0.2024],\n",
    "    point_show_normal=True\n",
    ")\n"
   ]
  },
  {
   "cell_type": "markdown",
   "metadata": {},
   "source": [
    "### 沿所选区域截取\n",
    "\n",
    "<img src=\"assets/screen_capture/Weixin Screenshot_20241211122951.png\" width=\"600\">"
   ]
  },
  {
   "cell_type": "code",
   "execution_count": 1,
   "metadata": {},
   "outputs": [
    {
     "name": "stdout",
     "output_type": "stream",
     "text": [
      "Jupyter environment detected. Enabling Open3D WebVisualizer.\n",
      "[Open3D INFO] WebRTC GUI backend enabled.\n",
      "[Open3D INFO] WebRTCWindowSystem: HTTP handshake server disabled.\n",
      "Load a polygon volume and use it to crop the original point cloud\n"
     ]
    }
   ],
   "source": [
    "import open3d as o3d\n",
    "import numpy as np\n",
    "\n",
    "print(\"Load a polygon volume and use it to crop the original point cloud\")\n",
    "\n",
    "demo_crop_data = o3d.data.DemoCropPointCloud()\n",
    "pcd = o3d.io.read_point_cloud(demo_crop_data.point_cloud_path)\n",
    "\n",
    "# 框选选择\n",
    "vol = o3d.visualization.read_selection_polygon_volume(demo_crop_data.cropped_json_path)\n",
    "chair = vol.crop_point_cloud(pcd)\n",
    "\n",
    "# # 源始数据水平移动\n",
    "# transformation_matrix = np.identity(4)\n",
    "# transformation_matrix[0, 3] = 10\n",
    "# pcd.transform(transformation_matrix)\n",
    "# merge = pcd + chair\n",
    "\n",
    "# TODO: 应该可以还能显示框选的范围\n",
    "\n",
    "o3d.visualization.draw_geometries(\n",
    "    [chair],\n",
    "    # zoom=0.7,\n",
    "    # front=[0.5439, -0.2333, -0.8060],\n",
    "    # lookat=[2.4615, 2.1331, 1.338],\n",
    "    # up=[-0.1781, -0.9708, 0.1608]\n",
    ")"
   ]
  },
  {
   "cell_type": "markdown",
   "metadata": {},
   "source": [
    "### 上颜色（报错）"
   ]
  },
  {
   "cell_type": "code",
   "execution_count": null,
   "metadata": {},
   "outputs": [],
   "source": [
    "import open3d as o3d\n",
    "import numpy as np\n",
    "\n",
    "demo_crop_data = o3d.data.DemoCropPointCloud()\n",
    "pcd = o3d.io.read_point_cloud(demo_crop_data.point_cloud_path)\n",
    "\n",
    "# 框选选择\n",
    "vol = o3d.visualization.read_selection_polygon_volume(demo_crop_data.cropped_json_path)\n",
    "chair = vol.crop_point_cloud(pcd)\n",
    "\n",
    "# 加颜色\n",
    "chair.paint_uniform_color([1, 0.706, 0])\n",
    "\n",
    "o3d.visualization.draw_geometries([chair])"
   ]
  },
  {
   "cell_type": "markdown",
   "metadata": {},
   "source": [
    "### 距离\n",
    "\n",
    "<img src=\"assets/screen_capture/Weixin Screenshot_20241211124623.png\" width=\"600\">"
   ]
  },
  {
   "cell_type": "code",
   "execution_count": 2,
   "metadata": {},
   "outputs": [],
   "source": [
    "import open3d as o3d\n",
    "import numpy as np\n",
    "\n",
    "demo_crop_data = o3d.data.DemoCropPointCloud()\n",
    "pcd = o3d.io.read_point_cloud(demo_crop_data.point_cloud_path)\n",
    "\n",
    "# 获取框选出来的椅子\n",
    "vol = o3d.visualization.read_selection_polygon_volume(demo_crop_data.cropped_json_path)\n",
    "chair = vol.crop_point_cloud(pcd)\n",
    "\n",
    "# 计算出每个点到椅子的“最短”距离\n",
    "dists = pcd.compute_point_cloud_distance(chair)\n",
    "dists = np.asarray(dists)\n",
    "\n",
    "# 选出距离 > 1cm 的点\n",
    "ind = np.where(dists > 0.01)[0]\n",
    "\n",
    "pcd_without_chair = pcd.select_by_index(ind)\n",
    "\n",
    "o3d.visualization.draw_geometries([pcd_without_chair])"
   ]
  },
  {
   "cell_type": "markdown",
   "metadata": {},
   "source": [
    "### 画边界体积 Bounding volumes (有错误)"
   ]
  },
  {
   "cell_type": "code",
   "execution_count": 2,
   "metadata": {},
   "outputs": [],
   "source": [
    "import open3d as o3d\n",
    "import numpy as np\n",
    "\n",
    "demo_crop_data = o3d.data.DemoCropPointCloud()\n",
    "pcd = o3d.io.read_point_cloud(demo_crop_data.point_cloud_path)\n",
    "\n",
    "# 获取框选出来的椅子\n",
    "vol = o3d.visualization.read_selection_polygon_volume(demo_crop_data.cropped_json_path)\n",
    "chair = vol.crop_point_cloud(pcd)\n",
    "\n",
    "aabb = chair.get_axis_aligned_bounding_box()\n",
    "# 不让设置颜色 报错： [WinError 10054] An existing connection was forcibly closed by the remote host\n",
    "# aabb.color = (1, 0, 0)\n",
    "\n",
    "obb = chair.get_oriented_bounding_box()\n",
    "# 不让设置颜色 报错： [WinError 10054] An existing connection was forcibly closed by the remote host\n",
    "# obb.color = (0, 1, 0)\n",
    "\n",
    "o3d.visualization.draw_geometries([chair, aabb, obb])"
   ]
  },
  {
   "cell_type": "markdown",
   "metadata": {},
   "source": [
    "### 最小凸集\n",
    "\n",
    "<img src=\"assets/screen_capture/Weixin Screenshot_20241211132248.png\" width=\"600\">"
   ]
  },
  {
   "cell_type": "code",
   "execution_count": 7,
   "metadata": {},
   "outputs": [],
   "source": [
    "import open3d as o3d\n",
    "import numpy as np\n",
    "\n",
    "bunny = o3d.data.BunnyMesh()\n",
    "mesh = o3d.io.read_triangle_mesh(bunny.path)\n",
    "mesh.compute_vertex_normals()\n",
    "\n",
    "pcl = mesh.sample_points_poisson_disk(number_of_points=2000)\n",
    "\n",
    "hull, _ = pcl.compute_convex_hull()\n",
    "hull_ls = o3d.geometry.LineSet.create_from_triangle_mesh(hull)\n",
    "\n",
    "# hull_ls.paint_uniform_color((1, 0, 0))\n",
    "\n",
    "o3d.visualization.draw_geometries([pcl, hull_ls])"
   ]
  },
  {
   "cell_type": "markdown",
   "metadata": {},
   "source": [
    "### DBSCAN 聚类\n",
    "\n",
    "给定一个点云，例如来自深度传感器，我们希望将局部点云簇分组在一起。为此，我们可以使用聚类算法。Open3D 实现了 DBSCAN [Ester1996]，它是一种基于密度的聚类算法。该算法在 cluster_dbscan 中实现，需要两个参数： eps 定义簇中邻居的距离， min_points 定义形成簇所需的最小点数。函数返回 labels ，其中标签 -1 表示噪声。"
   ]
  },
  {
   "cell_type": "code",
   "execution_count": 2,
   "metadata": {},
   "outputs": [
    {
     "name": "stdout",
     "output_type": "stream",
     "text": [
      "[Open3D DEBUG] Precompute neighbors.\n",
      "[Open3D DEBUG] Done Precompute neighbors.\n",
      "[Open3D DEBUG] Compute Clusters\n",
      "[Open3D DEBUG] Done Compute Clusters: 10\n",
      "point cloud has 10 clusters\n"
     ]
    }
   ],
   "source": [
    "import open3d as o3d\n",
    "import numpy as np\n",
    "import matplotlib.pyplot as plt\n",
    "\n",
    "ply_point_cloud = o3d.data.PLYPointCloud()\n",
    "pcd = o3d.io.read_point_cloud(ply_point_cloud.path)\n",
    "\n",
    "with o3d.utility.VerbosityContextManager(o3d.utility.VerbosityLevel.Debug) as cm:\n",
    "    labels = np.array(\n",
    "        pcd.cluster_dbscan(eps=0.02, min_points=10, print_progress=True)\n",
    "    )\n",
    "\n",
    "max_label = labels.max()\n",
    "\n",
    "print(f\"point cloud has {max_label + 1} clusters\")\n",
    "\n",
    "colors = plt.get_cmap(\"tab20\")(labels / (max_label if max_label > 0 else 1))\n",
    "colors[labels < 0] = 0\n",
    "\n",
    "# 不让设置颜色\n",
    "# pcd.colors = o3d.utility.Vector3dVector(colors[:, :3])\n",
    "\n",
    "o3d.visualization.draw_geometries([pcd])\n",
    "\n",
    "print(f\"completed\")"
   ]
  },
  {
   "cell_type": "markdown",
   "metadata": {},
   "source": [
    "### Plane segmentation 飞机分割\n",
    "\n",
    "<img src=\"assets/screen_capture/Weixin Screenshot_20241211134711.png\" width=\"600\">\n",
    "<img src=\"assets/screen_capture/Weixin Screenshot_20241211134859.png\" width=\"600\">"
   ]
  },
  {
   "cell_type": "code",
   "execution_count": 1,
   "metadata": {},
   "outputs": [
    {
     "name": "stdout",
     "output_type": "stream",
     "text": [
      "Jupyter environment detected. Enabling Open3D WebVisualizer.\n",
      "[Open3D INFO] WebRTC GUI backend enabled.\n",
      "[Open3D INFO] WebRTCWindowSystem: HTTP handshake server disabled.\n",
      "Plane equation: -0.06x + -0.10y + 0.99z + -1.06 = 0\n"
     ]
    }
   ],
   "source": [
    "import open3d as o3d\n",
    "import numpy as np\n",
    "import matplotlib.pyplot as plt\n",
    "\n",
    "pcd_point_cloud = o3d.data.PCDPointCloud()\n",
    "pcd = o3d.io.read_point_cloud(pcd_point_cloud.path)\n",
    "\n",
    "plane_model, inliers = pcd.segment_plane(distance_threshold=0.01,\n",
    "                                         ransac_n=3,\n",
    "                                         num_iterations=1000)\n",
    "\n",
    "[a, b, c, d] = plane_model\n",
    "\n",
    "print(f\"Plane equation: {a:.2f}x + {b:.2f}y + {c:.2f}z + {d:.2f} = 0\")\n",
    "\n",
    "inlier_cloud = pcd.select_by_index(inliers)\n",
    "\n",
    "# 不让设置颜色\n",
    "# inlier_cloud.paint_uniform_color([1.0, 0, 0])\n",
    "\n",
    "outlier_cloud = pcd.select_by_index(inliers, invert=True)\n",
    "\n",
    "o3d.visualization.draw_geometries([inlier_cloud, outlier_cloud],)"
   ]
  },
  {
   "cell_type": "markdown",
   "metadata": {},
   "source": [
    "### Planar patch detection 平面补丁检测 （报错）\n",
    "\n",
    "除了找到具有最大支撑的单个平面外，Open3D 还包括一个使用基于稳健统计方法的平面补丁检测算法[ArujoAndOliveira2020]。此算法首先将点云细分为更小的块（使用八叉树），然后尝试将平面拟合到每个块。如果平面通过稳健的平面性测试，则被接受。通过取中点位置和中点法线来拟合一个子集的点的平面，并估计一个平面 \n",
    " 。稳健的平面性检查包括两个主要组件。首先，找到每个点法线与拟合平面法线之间的角度分布。如果这个分布的扩散太大（即所有相关点法线之间的方差太大），则拒绝该平面。其次，计算从拟合平面到每个点的距离分布。如果使用共面性度量（参见[ArujoAndOliveira2020]的第 4 图）测量的这个分布的扩散太大，则拒绝该平面。 在找到一组初始飞机后，使用迭代过程将飞机增长和合并成更小、更稳定的飞机集合。然后可以使用它们相关点集的二维凸包来界定这些飞机，并提取平面补片。"
   ]
  },
  {
   "cell_type": "code",
   "execution_count": null,
   "metadata": {},
   "outputs": [],
   "source": [
    "import open3d as o3d\n",
    "import numpy as np\n",
    "import matplotlib.pyplot as plt\n",
    "\n",
    "dataset = o3d.data.PCDPointCloud()\n",
    "pcd = o3d.io.read_point_cloud(dataset.path)\n",
    "assert (pcd.has_normals())\n",
    "\n",
    "# using all defaults\n",
    "oboxes = pcd.detect_planar_patches(\n",
    "    normal_variance_threshold_deg=60,\n",
    "    coplanarity_deg=75,\n",
    "    outlier_ratio=0.75,\n",
    "    min_plane_edge_length=0,\n",
    "    min_num_points=0,\n",
    "    search_param=o3d.geometry.KDTreeSearchParamKNN(knn=30))\n",
    "\n",
    "print(\"Detected {} patches\".format(len(oboxes)))\n",
    "\n",
    "geometries = []\n",
    "for obox in oboxes:\n",
    "    mesh = o3d.geometry.TriangleMesh.create_from_oriented_bounding_box(obox, scale=[1, 1, 0.0001])\n",
    "    mesh.paint_uniform_color(obox.color)\n",
    "    geometries.append(mesh)\n",
    "    geometries.append(obox)\n",
    "geometries.append(pcd)\n",
    "\n",
    "o3d.visualization.draw_geometries(geometries,)"
   ]
  },
  {
   "cell_type": "markdown",
   "metadata": {},
   "source": [
    "### Hidden point removal 隐藏点去除\n",
    "\n",
    "想象您想从一个给定的视点渲染点云，但由于背景中的点没有被其他点遮挡，这些点会泄露到前景中。为此，我们可以应用一个隐藏点去除算法。在 Open3D 中，实现了[Katz2007]的方法，该方法在不进行表面重建或法线估计的情况下，近似计算从给定视点观察点云的可见性。\n",
    "\n",
    "<img src=\"assets/screen_capture/Weixin Screenshot_20241211140027.png\" width=\"600\" />"
   ]
  },
  {
   "cell_type": "code",
   "execution_count": 2,
   "metadata": {},
   "outputs": [
    {
     "name": "stdout",
     "output_type": "stream",
     "text": [
      "Convert mesh to a point cloud and estimate dimensions\n"
     ]
    }
   ],
   "source": [
    "import open3d as o3d\n",
    "import numpy as np\n",
    "import matplotlib.pyplot as plt\n",
    "\n",
    "print(\"Convert mesh to a point cloud and estimate dimensions\")\n",
    "armadillo = o3d.data.ArmadilloMesh()\n",
    "mesh = o3d.io.read_triangle_mesh(armadillo.path)\n",
    "mesh.compute_vertex_normals()\n",
    "\n",
    "pcd = mesh.sample_points_poisson_disk(5000)\n",
    "diameter = np.linalg.norm(\n",
    "    np.asarray(pcd.get_max_bound()) - np.asarray(pcd.get_min_bound()))\n",
    "o3d.visualization.draw_geometries([pcd])"
   ]
  },
  {
   "cell_type": "code",
   "execution_count": 3,
   "metadata": {},
   "outputs": [
    {
     "ename": "",
     "evalue": "",
     "output_type": "error",
     "traceback": [
      "\u001b[1;31mThe Kernel crashed while executing code in the current cell or a previous cell. \n",
      "\u001b[1;31mPlease review the code in the cell(s) to identify a possible cause of the failure. \n",
      "\u001b[1;31mClick <a href='https://aka.ms/vscodeJupyterKernelCrash'>here</a> for more info. \n",
      "\u001b[1;31mView Jupyter <a href='command:jupyter.viewOutput'>log</a> for further details."
     ]
    }
   ],
   "source": [
    "print(\"Define parameters used for hidden_point_removal\")\n",
    "camera = [0, 0, diameter]\n",
    "radius = diameter * 100\n",
    "\n",
    "print(\"Get all points that are visible from given view point\")\n",
    "_, pt_map = pcd.hidden_point_removal(camera, radius)\n",
    "\n",
    "print(\"Visualize result\")\n",
    "\n",
    "pcd = pcd.select_by_index(pt_map)\n",
    "\n",
    "o3d.visualization.draw_geometries([pcd])"
   ]
  },
  {
   "cell_type": "markdown",
   "metadata": {},
   "source": []
  }
 ],
 "metadata": {
  "kernelspec": {
   "display_name": "base",
   "language": "python",
   "name": "python3"
  },
  "language_info": {
   "codemirror_mode": {
    "name": "ipython",
    "version": 3
   },
   "file_extension": ".py",
   "mimetype": "text/x-python",
   "name": "python",
   "nbconvert_exporter": "python",
   "pygments_lexer": "ipython3",
   "version": "3.11.10"
  }
 },
 "nbformat": 4,
 "nbformat_minor": 2
}
